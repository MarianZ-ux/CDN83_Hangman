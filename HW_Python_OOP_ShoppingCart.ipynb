{
 "cells": [
  {
   "cell_type": "markdown",
   "id": "34128532",
   "metadata": {},
   "source": [
    "# HW Exercise: Python3 >>> Object Oriented Programing"
   ]
  },
  {
   "cell_type": "markdown",
   "id": "c3007510",
   "metadata": {},
   "source": [
    "Shopping Cart "
   ]
  },
  {
   "cell_type": "code",
   "execution_count": null,
   "id": "9be00ebd",
   "metadata": {},
   "outputs": [],
   "source": [
    "# Create a class called cart | that retains items |and methods: add, remove, and show\n",
    "from IPython.display import clear_output\n",
    "class Cart():\n",
    "    def __init__(self, cart = []):\n",
    "        self.cart = cart\n",
    "    \n",
    "    def add(self, item):                                          # adds items to the cart | when it does not exist in cart\n",
    "        self.cart.append(item)\n",
    "    \n",
    "    def add_quantity(self, item_index, new_quantity):              # adds quantities | when item prev exists in cart\n",
    "        self.cart[item_index].quantity += new_quantity\n",
    "            \n",
    "    def remove(self, item_index):                                  # checks if item is in cart\n",
    "        if item_index != -1:\n",
    "            print(self.cart[item_index].name, 'has been removed!')\n",
    "            self.cart.pop(item_index)  \n",
    "        else:                                                      # if item NOT in cart, returns an error message  \n",
    "            print(f'{item_name} is not in your cart.')\n",
    "    \n",
    "    def clear(self):                                               # clear = empties cart\n",
    "        self.cart.clear()\n",
    "    \n",
    "    def find_item_index(self, item_name):                          # finds index of an item | that exists in cart\n",
    "        for i in self.cart:\n",
    "            if i.name == item_name:\n",
    "                return self.cart.index(i)\n",
    "    \n",
    "    def print_receipt(self):                                       # Print final receipt | and empty receipt\n",
    "        clear_output()\n",
    "        total = 0\n",
    "        print('Receipt:  ')\n",
    "        print('  =  '*28)\n",
    "        \n",
    "        if self.cart != {}:                                        # if cart is not empty, display the items\n",
    "            for i in self.cart:\n",
    "                print(f'\\t{i.name} x {i.quantity}')\n",
    "                total += i.price * i.quantity\n",
    "        print('='*28)\n",
    "        print('Total:', '${:.2f}'.format(total))\n",
    "    \n",
    "class Item():\n",
    "    def __init__(self, name, price, quantity):\n",
    "        self.name = name\n",
    "        self.price = price\n",
    "        self.quantity = quantity"
   ]
  },
  {
   "cell_type": "markdown",
   "id": "d573bd6d",
   "metadata": {},
   "source": [
    "### Turn the shopping cart program from yesterday into an object-oriented program"
   ]
  },
  {
   "cell_type": "markdown",
   "id": "967350fc",
   "metadata": {},
   "source": [
    "Shopping Cart OOP"
   ]
  },
  {
   "cell_type": "code",
   "execution_count": null,
   "id": "01cc04fa",
   "metadata": {},
   "outputs": [],
   "source": [
    "new_cart = Cart([])\n",
    "while True:\n",
    "    choice = input('Select your choice > add/remove/clear/quit: ').lower()\n",
    "    if choice == 'quit':\n",
    "        new_cart.print_receipt()\n",
    "        print('Gracias, see you next time!')\n",
    "        break       \n",
    "    elif choice == 'add':\n",
    "        product = input('What would you like to add?: ')\n",
    "        quantity = int(input('Enter desired quantity: '))\n",
    "        \n",
    "        item_index = new_cart.find_item_index(product)            # item index which is used to add existing items \n",
    "        if item_index == None:                                    # if the item does NOT exist\n",
    "            price = float(input('Enter price tag: '))\n",
    "            item = Item(product, price, quantity)\n",
    "            new_cart.add(item)\n",
    "        else:                                                     # if the item does exist\n",
    "            new_cart.add_quantity(item_index, quantity)\n",
    "        print(f'\\n{quantity} {product}s has been added!')\n",
    "    \n",
    "    elif choice == 'clear':                                       # empties the cart\n",
    "        new_cart.clear()\n",
    "        print('\\nYour cart has been emptied!')\n",
    "        new_cart.print_receipt()\n",
    "    \n",
    "    elif choice == 'remove':                                     # removes specified item from the cart\n",
    "        item_name = input('Which item is being removed?: ')\n",
    "        new_cart.remove(new_cart.find_item_index(item_name))\n",
    "        new_cart.print_receipt()\n",
    "    \n",
    "    elif choice == 'show':                                        # shows current items and total of the cart\n",
    "        new_cart.print_receipt()\n",
    "      \n",
    "    else:\n",
    "        print('Not a valid, try again.')                           # if an invalid choice has been entered"
   ]
  }
 ],
 "metadata": {
  "kernelspec": {
   "display_name": "Python 3 (ipykernel)",
   "language": "python",
   "name": "python3"
  },
  "language_info": {
   "codemirror_mode": {
    "name": "ipython",
    "version": 3
   },
   "file_extension": ".py",
   "mimetype": "text/x-python",
   "name": "python",
   "nbconvert_exporter": "python",
   "pygments_lexer": "ipython3",
   "version": "3.9.7"
  }
 },
 "nbformat": 4,
 "nbformat_minor": 5
}
