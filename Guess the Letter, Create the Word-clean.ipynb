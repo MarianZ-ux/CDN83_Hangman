{
 "cells": [
  {
   "cell_type": "markdown",
   "metadata": {},
   "source": [
    "**Create a Letter Guessing Game**\n",
    "\n",
    "Create a program that allows a user 7 chances to guess the correct word. If they do not guess the word after 7 tries, the player loses and the program will print the correct word. Otherwise, the play wins and the game.\n",
    "\n",
    "**How to build the program**\n",
    "* When you start the game, you will need to select a random word from a list of at least 10 words (You have full control over which words you want to use for you program). This will be your secret word. Your secret word will be represented in the program as a group of underscores. For as long as the word is, you should also have that many underscores. \n",
    "\n",
    "* Once the word is selected, your game will commence. Perform a Google search to figure out how to select a random word from a list using Python.<br>\n",
    "**Hint** There's package you can import into your application that does this for you.\n",
    "\n",
    "* The end user will have a total of 7 chances to guess the correct letter from the secret word. If the end user makes 7 incorrect guesses, the game will end.\n",
    "\n",
    "* As you guess the correct letters, the letters you have guess will then take place of the underscores that letter represents. <br>\n",
    "**For Example**: If your secret word is 'watermelon' and  so far you have guessed the letters 'a' and 'e', the word you're trying to guess will appear as follows: _ a _ e _ _ e _ _ _.<br>\n",
    "**Keep in mind** that if you guess a letter that appears more than once in your secret word, make sure that the letter is populated anywhere that letter would be."
   ]
  },
  {
   "cell_type": "code",
   "execution_count": null,
   "metadata": {},
   "outputs": [],
   "source": [
    "# 1. Make a program that selects a word from a list of words\n",
    "# 2. From each category, select a random word\n",
    "# 3. Accept user input that asks the user to type in a category\n",
    "# randomly_selected_word = \"orange\"\n",
    "# 4. _ _ _ _ _ _\n",
    "# 5. if you make a correct choice = \"o\" => o _ _ _ _ _\n",
    "# randomly_selected_word = \"watermelon\"\n",
    "# 6. _ _ _ _ _ _ _ _ _ _ _\n",
    "# 7. if you make a correct choice = \"e\" => _ _ _ e _ _ e _ _ _\n",
    "# 8. 7 attempts\n",
    "# 9. if you exhausted all 7 choices, show the correct word "
   ]
  },
  {
   "cell_type": "code",
   "execution_count": null,
   "metadata": {},
   "outputs": [
    {
     "name": "stdout",
     "output_type": "stream",
     "text": [
      "\n",
      "Guess a letter: m\n"
     ]
    }
   ],
   "source": [
    "#print(\"\\nWould you like to play a game? (y/n) \")\n",
    "\n",
    "hMan = ['coconut', 'copper', 'iron', 'lithium', 'cricket', 'ranunculus', 'girrafe', 'mango', 'banana', 'moose', 'wolf']\n",
    "import random\n",
    "\n",
    "random_int = random.randint(0,11)\n",
    "#return hMan_list[random_int]) #int means integer\n",
    "\n",
    "def random_word():\n",
    "    return hMan[random_int]\n",
    "\n",
    "def underscore_string():\n",
    "    under_string = \"_ \" * len(random_word())\n",
    "    return under_string\n",
    "\n",
    "def main():\n",
    "    tries = 0\n",
    "    wrong_letter = 0\n",
    "    letter = input(\"\\nGuess a letter: \")\n",
    "\n",
    "    while tries < 7: # will use many many many while flags (if this then that) before stop        \n",
    "        tries += 1\n",
    "    while (wrong_letter != tries and random_int):\n",
    "        if len(letter) == 1 :\n",
    "            if tries != letter:\n",
    "                first_index = letter\n",
    "            elif first_index == -1:\n",
    "                wrong_letter += 1\n",
    "                print(\"wrong\")\n",
    "            else:\n",
    "                print('right!')\n",
    "            while wrong_letter == tries - 1 :\n",
    "                print ('Total attempts: ', tries)\n",
    "                if tries >= 8:\n",
    "                    print(\"To the gallows with you!\") #The mystery word was\" (random_word)\n",
    "\n",
    "    return play()\n",
    "\n",
    "    def guess_letter():\n",
    "        letter = input(\"guess the mystery word; enter a letter: \")\n",
    "        letter.strip()\n",
    "        letter.lower()\n",
    "        print (letter)\n",
    "        return letter\n",
    "\n",
    "    def play():\n",
    "        answer = input(\"Would you like to play a game? y/n: \")\n",
    "        if answer == 'y':\n",
    "            print('get ready to hang')\n",
    "            return answer\n",
    "        else:\n",
    "            print (\"The gallows await your next visit\")        \n",
    "\n",
    "\n",
    "\n",
    "main()"
   ]
  },
  {
   "cell_type": "code",
   "execution_count": null,
   "metadata": {},
   "outputs": [],
   "source": []
  }
 ],
 "metadata": {
  "kernelspec": {
   "display_name": "Python 3 (ipykernel)",
   "language": "python",
   "name": "python3"
  },
  "language_info": {
   "codemirror_mode": {
    "name": "ipython",
    "version": 3
   },
   "file_extension": ".py",
   "mimetype": "text/x-python",
   "name": "python",
   "nbconvert_exporter": "python",
   "pygments_lexer": "ipython3",
   "version": "3.9.7"
  }
 },
 "nbformat": 4,
 "nbformat_minor": 2
}
